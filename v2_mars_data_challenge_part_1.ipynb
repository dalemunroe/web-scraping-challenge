{
 "cells": [
  {
   "cell_type": "code",
   "execution_count": 3,
   "metadata": {},
   "outputs": [],
   "source": [
    "# Dependencies\n",
    "from splinter import Browser\n",
    "\n",
    "from bs4 import BeautifulSoup\n",
    "import requests\n",
    "import pandas as pd\n",
    "from webdriver_manager.chrome import ChromeDriverManager"
   ]
  },
  {
   "cell_type": "code",
   "execution_count": 7,
   "metadata": {},
   "outputs": [],
   "source": [
    "def scrape():\n",
    "    # Setup splinter\n",
    "    executable_path = {'executable_path': ChromeDriverManager().install()}\n",
    "\n",
    "    # browser = init_browser()\n",
    "    browser = Browser('chrome', **executable_path, headless=False)\n",
    "\n",
    "    # Set an empty dict for listings that we can save to Mongo\n",
    "    scraperesults = {}\n",
    "\n",
    "    # Mars News Site to Scrape\n",
    "    url = 'https://redplanetscience.com/'\n",
    "    browser.visit(url)\n",
    "\n",
    "    # Let it sleep for 1 second\n",
    "    #time.sleep(1)\n",
    "\n",
    "    # Return all the HTML on our page\n",
    "    html = browser.html\n",
    "    \n",
    "    # Create a Beautiful Soup object, pass in our HTML, and call 'html.parser'\n",
    "    soup = BeautifulSoup(html, \"html.parser\")\n",
    "\n",
    "    # Build our dictionary for the ttile & teaser\n",
    "    scraperesults[\"content_titles\"] = soup.find_all('div', class_='content_title')\n",
    "    scraperesults[\"previews\"] = soup.find_all('div', class_='article_teaser_body')\n",
    " \n",
    "\n",
    "    # Quit the browser\n",
    "    browser.quit()\n",
    "\n",
    "    # Return our dictionary\n",
    "    #return scraperesults\n"
   ]
  },
  {
   "cell_type": "code",
   "execution_count": null,
   "metadata": {},
   "outputs": [],
   "source": []
  }
 ],
 "metadata": {
  "kernelspec": {
   "display_name": "Python 3.7.7 ('PythonData')",
   "language": "python",
   "name": "python3"
  },
  "language_info": {
   "codemirror_mode": {
    "name": "ipython",
    "version": 3
   },
   "file_extension": ".py",
   "mimetype": "text/x-python",
   "name": "python",
   "nbconvert_exporter": "python",
   "pygments_lexer": "ipython3",
   "version": "3.7.7"
  },
  "orig_nbformat": 4,
  "vscode": {
   "interpreter": {
    "hash": "fc0bb293cbca8218ec797ab9fc01fcc16781a8e859e5b341e3a25b2353295d62"
   }
  }
 },
 "nbformat": 4,
 "nbformat_minor": 2
}
