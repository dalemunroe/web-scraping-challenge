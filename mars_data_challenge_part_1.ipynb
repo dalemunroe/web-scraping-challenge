{
 "cells": [
  {
   "cell_type": "markdown",
   "metadata": {},
   "source": [
    "### Part  1: Scrape Mars News"
   ]
  },
  {
   "cell_type": "code",
   "execution_count": 77,
   "metadata": {},
   "outputs": [],
   "source": [
    "# Dependencies\n",
    "from splinter import Browser\n",
    "from bs4 import BeautifulSoup\n",
    "import requests\n",
    "import pandas as pd\n",
    "from webdriver_manager.chrome import ChromeDriverManager\n",
    "import json\n",
    "import pymongo\n",
    "#from pymongo import MongoClient"
   ]
  },
  {
   "cell_type": "code",
   "execution_count": 78,
   "metadata": {},
   "outputs": [],
   "source": [
    "# Setup splinter\n",
    "executable_path = {'executable_path': ChromeDriverManager().install()}\n",
    "browser = Browser('chrome', **executable_path, headless=False)"
   ]
  },
  {
   "cell_type": "code",
   "execution_count": 79,
   "metadata": {},
   "outputs": [],
   "source": [
    "# Mars News Site to Scrape\n",
    "url = 'https://redplanetscience.com/'\n",
    "browser.visit(url)"
   ]
  },
  {
   "cell_type": "code",
   "execution_count": 80,
   "metadata": {},
   "outputs": [],
   "source": [
    "# Return all the HTML on page\n",
    "html = browser.html\n",
    "\n",
    "# Create a Beautiful Soup object, pass in our HTML, and call 'html.parser'\n",
    "soup = BeautifulSoup(html, 'html.parser')"
   ]
  },
  {
   "cell_type": "code",
   "execution_count": 81,
   "metadata": {},
   "outputs": [],
   "source": [
    "# Scrape titles and teaser body text\n",
    "#content_titles = soup.find_all('div', class_='content_title')\n",
    "#previews = soup.find_all('div', class_='article_teaser_body')"
   ]
  },
  {
   "cell_type": "code",
   "execution_count": 82,
   "metadata": {},
   "outputs": [
    {
     "data": {
      "text/plain": [
       "[<div class=\"list_text\">\n",
       " <div class=\"list_date\">September 26, 2022</div>\n",
       " <div class=\"content_title\">Mars 2020 Unwrapped and Ready for More Testing</div>\n",
       " <div class=\"article_teaser_body\">In time-lapse video, bunny-suited engineers remove the inner layer of protective foil on NASA's Mars 2020 rover after it was relocated for testing.</div>\n",
       " </div>,\n",
       " <div class=\"list_text\">\n",
       " <div class=\"list_date\">September 26, 2022</div>\n",
       " <div class=\"content_title\">6 Things to Know About NASA's Ingenuity Mars Helicopter</div>\n",
       " <div class=\"article_teaser_body\">The first helicopter attempting to fly on another planet is a marvel of engineering. Get up to speed with these key facts about its plans.</div>\n",
       " </div>,\n",
       " <div class=\"list_text\">\n",
       " <div class=\"list_date\">September 26, 2022</div>\n",
       " <div class=\"content_title\">NASA's Mars 2020 Rover Goes Coast-to-Coast to Prep for Launch</div>\n",
       " <div class=\"article_teaser_body\">The agency's first step in returning rocks from Mars just arrived at Kennedy Space Center. The Mars 2020 team now begins readying for a launch to the Red Planet this July.</div>\n",
       " </div>,\n",
       " <div class=\"list_text\">\n",
       " <div class=\"list_date\">September 26, 2022</div>\n",
       " <div class=\"content_title\">NASA Adds Return Sample Scientists to Mars 2020 Leadership Team</div>\n",
       " <div class=\"article_teaser_body\">The leadership council for Mars 2020 science added two new members who represent the interests of scientists destined to handle and study the first samples from Red Planet.</div>\n",
       " </div>,\n",
       " <div class=\"list_text\">\n",
       " <div class=\"list_date\">September 23, 2022</div>\n",
       " <div class=\"content_title\">Naming a NASA Mars Rover Can Change Your Life</div>\n",
       " <div class=\"article_teaser_body\">Want to name the robotic scientist NASA is sending to Mars in 2020? The student who named Curiosity — the rover currently exploring Mars — will tell you this is an opportunity worth taking.</div>\n",
       " </div>,\n",
       " <div class=\"list_text\">\n",
       " <div class=\"list_date\">September 15, 2022</div>\n",
       " <div class=\"content_title\">Screening Soon: 'The Pathfinders' Trains Lens on Mars</div>\n",
       " <div class=\"article_teaser_body\">With the Mars 2020 mission ramping up, the documentary — the first of four about past JPL missions to the Red Planet to be shown at Caltech — tells a gripping backstory.</div>\n",
       " </div>,\n",
       " <div class=\"list_text\">\n",
       " <div class=\"list_date\">September 13, 2022</div>\n",
       " <div class=\"content_title\">MOXIE Could Help Future Rockets Launch Off Mars</div>\n",
       " <div class=\"article_teaser_body\">NASA's Perseverance rover carries a device to convert Martian air into oxygen that, if produced on a larger scale, could be used not just for breathing, but also for fuel.</div>\n",
       " </div>,\n",
       " <div class=\"list_text\">\n",
       " <div class=\"list_date\">September 12, 2022</div>\n",
       " <div class=\"content_title\">NASA to Reveal Name of Its Next Mars Rover</div>\n",
       " <div class=\"article_teaser_body\">After a months-long contest among students to name NASA's newest Mars rover, the agency will reveal the winning name — and the winning student — this Thursday. </div>\n",
       " </div>,\n",
       " <div class=\"list_text\">\n",
       " <div class=\"list_date\">September 12, 2022</div>\n",
       " <div class=\"content_title\">NASA's Perseverance Rover Goes Through Trials by Fire, Ice, Light and Sound</div>\n",
       " <div class=\"article_teaser_body\">The agency's new Mars rover is put through a series of tests in vacuum chambers, acoustic chambers and more to get ready for the Red Planet.</div>\n",
       " </div>,\n",
       " <div class=\"list_text\">\n",
       " <div class=\"list_date\">September 10, 2022</div>\n",
       " <div class=\"content_title\">All About the Laser (and Microphone) Atop Mars 2020, NASA's Next Rover</div>\n",
       " <div class=\"article_teaser_body\">SuperCam is a rock-vaporizing instrument that will help scientists hunt for Mars fossils.</div>\n",
       " </div>,\n",
       " <div class=\"list_text\">\n",
       " <div class=\"list_date\">September 8, 2022</div>\n",
       " <div class=\"content_title\">NASA Invites Students to Name Mars 2020 Rover</div>\n",
       " <div class=\"article_teaser_body\">Through Nov. 1, K-12 students in the U.S. are encouraged to enter an essay contest to name NASA's next Mars rover.</div>\n",
       " </div>,\n",
       " <div class=\"list_text\">\n",
       " <div class=\"list_date\">September 8, 2022</div>\n",
       " <div class=\"content_title\">Mars Is Getting a New Robotic Meteorologist</div>\n",
       " <div class=\"article_teaser_body\">Sensors on NASA's Perseverance will help prepare for future human exploration by taking weather measurements and studying dust particles.</div>\n",
       " </div>,\n",
       " <div class=\"list_text\">\n",
       " <div class=\"list_date\">September 6, 2022</div>\n",
       " <div class=\"content_title\">Follow NASA's Perseverance Rover in Real Time on Its Way to Mars</div>\n",
       " <div class=\"article_teaser_body\">A crisply rendered web application can show you where the agency's Mars 2020 mission is right now as it makes its way to the Red Planet for a Feb. 18, 2021, landing.</div>\n",
       " </div>,\n",
       " <div class=\"list_text\">\n",
       " <div class=\"list_date\">September 5, 2022</div>\n",
       " <div class=\"content_title\">Mars 2020 Stands on Its Own Six Wheels</div>\n",
       " <div class=\"article_teaser_body\">In time-lapse video, taken at JPL, captures the first time NASA's Mars 2020 rover carries its full weight on its legs and wheels.</div>\n",
       " </div>,\n",
       " <div class=\"list_text\">\n",
       " <div class=\"list_date\">August 31, 2022</div>\n",
       " <div class=\"content_title\">Mars InSight Lander to Push on Top of the 'Mole'</div>\n",
       " <div class=\"article_teaser_body\">Engineers have a plan for pushing down on the heat probe, which has been stuck at the Martian surface for a year.</div>\n",
       " </div>]"
      ]
     },
     "execution_count": 82,
     "metadata": {},
     "output_type": "execute_result"
    }
   ],
   "source": [
    "\n",
    "elements = soup.find_all('div', class_='list_text')\n",
    "elements"
   ]
  },
  {
   "cell_type": "code",
   "execution_count": 83,
   "metadata": {},
   "outputs": [
    {
     "data": {
      "text/plain": [
       "[{'content_titles': 'Mars 2020 Unwrapped and Ready for More Testing',\n",
       "  'previews': \"In time-lapse video, bunny-suited engineers remove the inner layer of protective foil on NASA's Mars 2020 rover after it was relocated for testing.\"},\n",
       " {'content_titles': \"6 Things to Know About NASA's Ingenuity Mars Helicopter\",\n",
       "  'previews': 'The first helicopter attempting to fly on another planet is a marvel of engineering. Get up to speed with these key facts about its plans.'},\n",
       " {'content_titles': \"NASA's Mars 2020 Rover Goes Coast-to-Coast to Prep for Launch\",\n",
       "  'previews': \"The agency's first step in returning rocks from Mars just arrived at Kennedy Space Center. The Mars 2020 team now begins readying for a launch to the Red Planet this July.\"},\n",
       " {'content_titles': 'NASA Adds Return Sample Scientists to Mars 2020 Leadership Team',\n",
       "  'previews': 'The leadership council for Mars 2020 science added two new members who represent the interests of scientists destined to handle and study the first samples from Red Planet.'},\n",
       " {'content_titles': 'Naming a NASA Mars Rover Can Change Your Life',\n",
       "  'previews': 'Want to name the robotic scientist NASA is sending to Mars in 2020? The student who named Curiosity — the rover currently exploring Mars — will tell you this is an opportunity worth taking.'},\n",
       " {'content_titles': \"Screening Soon: 'The Pathfinders' Trains Lens on Mars\",\n",
       "  'previews': 'With the Mars 2020 mission ramping up, the documentary — the first of four about past JPL missions to the Red Planet to be shown at Caltech — tells a gripping backstory.'},\n",
       " {'content_titles': 'MOXIE Could Help Future Rockets Launch Off Mars',\n",
       "  'previews': \"NASA's Perseverance rover carries a device to convert Martian air into oxygen that, if produced on a larger scale, could be used not just for breathing, but also for fuel.\"},\n",
       " {'content_titles': 'NASA to Reveal Name of Its Next Mars Rover',\n",
       "  'previews': \"After a months-long contest among students to name NASA's newest Mars rover, the agency will reveal the winning name — and the winning student — this Thursday. \"},\n",
       " {'content_titles': \"NASA's Perseverance Rover Goes Through Trials by Fire, Ice, Light and Sound\",\n",
       "  'previews': \"The agency's new Mars rover is put through a series of tests in vacuum chambers, acoustic chambers and more to get ready for the Red Planet.\"},\n",
       " {'content_titles': \"All About the Laser (and Microphone) Atop Mars 2020, NASA's Next Rover\",\n",
       "  'previews': 'SuperCam is a rock-vaporizing instrument that will help scientists hunt for Mars fossils.'},\n",
       " {'content_titles': 'NASA Invites Students to Name Mars 2020 Rover',\n",
       "  'previews': \"Through Nov. 1, K-12 students in the U.S. are encouraged to enter an essay contest to name NASA's next Mars rover.\"},\n",
       " {'content_titles': 'Mars Is Getting a New Robotic Meteorologist',\n",
       "  'previews': \"Sensors on NASA's Perseverance will help prepare for future human exploration by taking weather measurements and studying dust particles.\"},\n",
       " {'content_titles': \"Follow NASA's Perseverance Rover in Real Time on Its Way to Mars\",\n",
       "  'previews': \"A crisply rendered web application can show you where the agency's Mars 2020 mission is right now as it makes its way to the Red Planet for a Feb. 18, 2021, landing.\"},\n",
       " {'content_titles': 'Mars 2020 Stands on Its Own Six Wheels',\n",
       "  'previews': \"In time-lapse video, taken at JPL, captures the first time NASA's Mars 2020 rover carries its full weight on its legs and wheels.\"},\n",
       " {'content_titles': \"Mars InSight Lander to Push on Top of the 'Mole'\",\n",
       "  'previews': 'Engineers have a plan for pushing down on the heat probe, which has been stuck at the Martian surface for a year.'}]"
      ]
     },
     "execution_count": 83,
     "metadata": {},
     "output_type": "execute_result"
    }
   ],
   "source": [
    "scraped_data = []\n",
    "\n",
    "for x in elements:\n",
    "    try:\n",
    "        data = {}\n",
    "        data['content_titles'] = x.find('div', class_='content_title').get_text()\n",
    "        data['previews'] = x.find('div', class_='article_teaser_body').get_text()\n",
    "        scraped_data.append(data)\n",
    " \n",
    "        browser.links.find_by_partial_text('More').click()\n",
    " \n",
    "    except Exception as E:\n",
    "        print(E)   \n",
    "\n",
    "scraped_data"
   ]
  },
  {
   "cell_type": "code",
   "execution_count": 84,
   "metadata": {},
   "outputs": [],
   "source": [
    "browser.quit()"
   ]
  },
  {
   "cell_type": "markdown",
   "metadata": {},
   "source": [
    "##### Optional Activities"
   ]
  },
  {
   "cell_type": "code",
   "execution_count": 85,
   "metadata": {},
   "outputs": [],
   "source": [
    "with open ('scraped_mars_news.json', 'w') as file:\n",
    "    json.dump(scraped_data, file)"
   ]
  },
  {
   "cell_type": "code",
   "execution_count": 86,
   "metadata": {},
   "outputs": [],
   "source": [
    "# Initialise PyMongo to work with MongoDBs\n",
    "conn = 'mongodb://localhost:27017'\n",
    "client = pymongo.MongoClient(conn)\n",
    "\n",
    "# Declare the mars news database\n",
    "mars_news_db = client[\"mars_news_db\"]\n",
    "mars_news_collection = mars_news_db[\"news\"]"
   ]
  },
  {
   "cell_type": "code",
   "execution_count": 87,
   "metadata": {},
   "outputs": [],
   "source": [
    "for data1 in scraped_data:\n",
    "    mars_news_collection.insert_one(data1)"
   ]
  },
  {
   "cell_type": "code",
   "execution_count": 88,
   "metadata": {},
   "outputs": [
    {
     "name": "stdout",
     "output_type": "stream",
     "text": [
      "{'_id': ObjectId('6331b4fe8b5757034f12d774'), 'content_titles': 'Mars 2020 Unwrapped and Ready for More Testing', 'previews': \"In time-lapse video, bunny-suited engineers remove the inner layer of protective foil on NASA's Mars 2020 rover after it was relocated for testing.\"}\n",
      "{'_id': ObjectId('6331b4fe8b5757034f12d775'), 'content_titles': \"A Year of Surprising Science From NASA's InSight Mars Mission\", 'previews': \"A batch of new papers summarizes the lander's findings above and below the surface of the Red Planet.\"}\n",
      "{'_id': ObjectId('6331b4fe8b5757034f12d776'), 'content_titles': 'NASA Updates Mars 2020 Mission Environmental Review', 'previews': 'NASA and the Department of Energy have completed a more detailed risk analysis for the Mars 2020 rover launch from Florida.'}\n",
      "{'_id': ObjectId('6331b4fe8b5757034f12d777'), 'content_titles': \"NASA's Mars Perseverance Rover Gets Its Sample Handling System\", 'previews': 'The system will be collecting and storing Martian rock and soil. Its installation marks another milestone in the march toward the July launch period.'}\n",
      "{'_id': ObjectId('6331b4fe8b5757034f12d778'), 'content_titles': \"NASA's Briefcase-Size MarCO Satellite Picks Up Honors\", 'previews': 'The twin spacecraft, the first of their kind to fly into deep space, earn a Laureate from Aviation Week & Space Technology.'}\n",
      "{'_id': ObjectId('6331b4fe8b5757034f12d779'), 'content_titles': \"Three New Views of Mars' Moon Phobos\", 'previews': \"Taken with the infrared camera aboard NASA's Odyssey orbiter, they reveal temperature variations on the small moon as it drifts into and out of Mars’ shadow.\"}\n",
      "{'_id': ObjectId('6331b4fe8b5757034f12d77a'), 'content_titles': \"NASA's Perseverance Rover Bringing 3D-Printed Metal Parts to Mars\", 'previews': \"For hobbyists and makers, 3D printing expands creative possibilities; for specialized engineers, it's also key to next-generation spacecraft design.\"}\n",
      "{'_id': ObjectId('6331b4fe8b5757034f12d77b'), 'content_titles': \"Deadline Closing for Names to Fly on NASA's Next Mars Rover\", 'previews': 'You have until Sept. 30 to send your names to Mars aboard the Mars 2020 rover. '}\n",
      "{'_id': ObjectId('6331b4fe8b5757034f12d77c'), 'content_titles': \"InSight's 'Mole' Team Peers into the Pit\", 'previews': 'Efforts to save the heat probe continue.'}\n",
      "{'_id': ObjectId('6331b4fe8b5757034f12d77d'), 'content_titles': \"NASA's Perseverance Rover Will Look at Mars Through These 'Eyes'\", 'previews': 'A pair of zoomable cameras will help scientists and rover drivers with high-resolution color images.'}\n",
      "{'_id': ObjectId('6331b4fe8b5757034f12d77e'), 'content_titles': \"Follow NASA's Perseverance Rover in Real Time on Its Way to Mars\", 'previews': \"A crisply rendered web application can show you where the agency's Mars 2020 mission is right now as it makes its way to the Red Planet for a Feb. 18, 2021, landing.\"}\n",
      "{'_id': ObjectId('6331b4fe8b5757034f12d77f'), 'content_titles': \"NASA's Curiosity Mars Rover Snaps Its Highest-Resolution Panorama Yet\", 'previews': 'To go along with the stunning 1.8-billion-pixel image, a new video offers a sweeping view of the Red Planet.'}\n",
      "{'_id': ObjectId('6331b4fe8b5757034f12d780'), 'content_titles': \"5 Hidden Gems Are Riding Aboard NASA's Perseverance Rover\", 'previews': \"The symbols, mottos, and small objects added to the agency's newest Mars rover serve a variety of purposes, from functional to decorative.\"}\n",
      "{'_id': ObjectId('6331b4fe8b5757034f12d781'), 'content_titles': \"NASA Engineers Checking InSight's Weather Sensors\", 'previews': 'An electronics issue is suspected to be preventing the sensors from sharing their data about Mars weather with the spacecraft.'}\n",
      "{'_id': ObjectId('6331b4fe8b5757034f12d782'), 'content_titles': \"How NASA's Mars Helicopter Will Reach the Red Planet's Surface\", 'previews': 'The small craft will seek to prove that powered, controlled flight is possible on another planet. But just getting it onto the surface of Mars will take a whole lot of ingenuity.'}\n",
      "{'_id': ObjectId('6331b5b78b5757034f12d784'), 'content_titles': 'Mars 2020 Unwrapped and Ready for More Testing', 'previews': \"In time-lapse video, bunny-suited engineers remove the inner layer of protective foil on NASA's Mars 2020 rover after it was relocated for testing.\"}\n",
      "{'_id': ObjectId('6331b5b78b5757034f12d785'), 'content_titles': \"6 Things to Know About NASA's Ingenuity Mars Helicopter\", 'previews': 'The first helicopter attempting to fly on another planet is a marvel of engineering. Get up to speed with these key facts about its plans.'}\n",
      "{'_id': ObjectId('6331b5b78b5757034f12d786'), 'content_titles': \"NASA's Mars 2020 Rover Goes Coast-to-Coast to Prep for Launch\", 'previews': \"The agency's first step in returning rocks from Mars just arrived at Kennedy Space Center. The Mars 2020 team now begins readying for a launch to the Red Planet this July.\"}\n",
      "{'_id': ObjectId('6331b5b78b5757034f12d787'), 'content_titles': 'NASA Adds Return Sample Scientists to Mars 2020 Leadership Team', 'previews': 'The leadership council for Mars 2020 science added two new members who represent the interests of scientists destined to handle and study the first samples from Red Planet.'}\n",
      "{'_id': ObjectId('6331b5b78b5757034f12d788'), 'content_titles': 'Naming a NASA Mars Rover Can Change Your Life', 'previews': 'Want to name the robotic scientist NASA is sending to Mars in 2020? The student who named Curiosity — the rover currently exploring Mars — will tell you this is an opportunity worth taking.'}\n",
      "{'_id': ObjectId('6331b5b78b5757034f12d789'), 'content_titles': \"Screening Soon: 'The Pathfinders' Trains Lens on Mars\", 'previews': 'With the Mars 2020 mission ramping up, the documentary — the first of four about past JPL missions to the Red Planet to be shown at Caltech — tells a gripping backstory.'}\n",
      "{'_id': ObjectId('6331b5b78b5757034f12d78a'), 'content_titles': 'MOXIE Could Help Future Rockets Launch Off Mars', 'previews': \"NASA's Perseverance rover carries a device to convert Martian air into oxygen that, if produced on a larger scale, could be used not just for breathing, but also for fuel.\"}\n",
      "{'_id': ObjectId('6331b5b78b5757034f12d78b'), 'content_titles': 'NASA to Reveal Name of Its Next Mars Rover', 'previews': \"After a months-long contest among students to name NASA's newest Mars rover, the agency will reveal the winning name — and the winning student — this Thursday. \"}\n",
      "{'_id': ObjectId('6331b5b78b5757034f12d78c'), 'content_titles': \"NASA's Perseverance Rover Goes Through Trials by Fire, Ice, Light and Sound\", 'previews': \"The agency's new Mars rover is put through a series of tests in vacuum chambers, acoustic chambers and more to get ready for the Red Planet.\"}\n",
      "{'_id': ObjectId('6331b5b78b5757034f12d78d'), 'content_titles': \"All About the Laser (and Microphone) Atop Mars 2020, NASA's Next Rover\", 'previews': 'SuperCam is a rock-vaporizing instrument that will help scientists hunt for Mars fossils.'}\n",
      "{'_id': ObjectId('6331b5b78b5757034f12d78e'), 'content_titles': 'NASA Invites Students to Name Mars 2020 Rover', 'previews': \"Through Nov. 1, K-12 students in the U.S. are encouraged to enter an essay contest to name NASA's next Mars rover.\"}\n",
      "{'_id': ObjectId('6331b5b78b5757034f12d78f'), 'content_titles': 'Mars Is Getting a New Robotic Meteorologist', 'previews': \"Sensors on NASA's Perseverance will help prepare for future human exploration by taking weather measurements and studying dust particles.\"}\n",
      "{'_id': ObjectId('6331b5b78b5757034f12d790'), 'content_titles': \"Follow NASA's Perseverance Rover in Real Time on Its Way to Mars\", 'previews': \"A crisply rendered web application can show you where the agency's Mars 2020 mission is right now as it makes its way to the Red Planet for a Feb. 18, 2021, landing.\"}\n",
      "{'_id': ObjectId('6331b5b78b5757034f12d791'), 'content_titles': 'Mars 2020 Stands on Its Own Six Wheels', 'previews': \"In time-lapse video, taken at JPL, captures the first time NASA's Mars 2020 rover carries its full weight on its legs and wheels.\"}\n",
      "{'_id': ObjectId('6331b5b78b5757034f12d792'), 'content_titles': \"Mars InSight Lander to Push on Top of the 'Mole'\", 'previews': 'Engineers have a plan for pushing down on the heat probe, which has been stuck at the Martian surface for a year.'}\n"
     ]
    }
   ],
   "source": [
    "results = mars_news_collection.find()\n",
    "for result in results:\n",
    "    print(result)"
   ]
  },
  {
   "cell_type": "code",
   "execution_count": null,
   "metadata": {},
   "outputs": [],
   "source": []
  }
 ],
 "metadata": {
  "kernelspec": {
   "display_name": "Python 3.7.7 ('PythonData')",
   "language": "python",
   "name": "python3"
  },
  "language_info": {
   "codemirror_mode": {
    "name": "ipython",
    "version": 3
   },
   "file_extension": ".py",
   "mimetype": "text/x-python",
   "name": "python",
   "nbconvert_exporter": "python",
   "pygments_lexer": "ipython3",
   "version": "3.7.7"
  },
  "orig_nbformat": 4,
  "vscode": {
   "interpreter": {
    "hash": "fc0bb293cbca8218ec797ab9fc01fcc16781a8e859e5b341e3a25b2353295d62"
   }
  }
 },
 "nbformat": 4,
 "nbformat_minor": 2
}
